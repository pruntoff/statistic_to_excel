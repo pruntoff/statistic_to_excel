{
 "cells": [
  {
   "cell_type": "code",
   "execution_count": 1,
   "metadata": {},
   "outputs": [],
   "source": [
    "%matplotlib inline\n",
    "\n",
    "from datetime import datetime as dt\n",
    "import json\n",
    "import os\n",
    "import matplotlib\n",
    "import math\n",
    "import numpy as np\n",
    "import matplotlib.pyplot as plt\n",
    "import pandas as pd\n",
    "import pandas.io.formats.excel\n",
    "import re\n",
    "import seaborn as sns\n",
    "from mpl_toolkits.mplot3d import Axes3D"
   ]
  },
  {
   "cell_type": "code",
   "execution_count": 2,
   "metadata": {},
   "outputs": [],
   "source": [
    "# Mnemonics\n",
    "mnm = ['440402_3S',\n",
    "'636601_3S',\n",
    "'776901_3S',\n",
    "'775302',\n",
    "'776002',\n",
    "'775401',\n",
    "'751301771',\n",
    "'774701',\n",
    "'775901_3S', '821701', '775902',\n",
    "'771501_3S', '862001771',\n",
    "'372902',\n",
    "'774103_3S',\n",
    "'720501',\n",
    "'774204_3S', '774207',\n",
    "'648402_3S',\n",
    "'280201',\n",
    "'776701',\n",
    "'772001',\n",
    "'900302',\n",
    "'775101_3S',\n",
    "'773701',\n",
    "'616202_3S',\n",
    "'771205_3S',\n",
    "'373101_3S',\n",
    "'774002_3S',\n",
    "'775601_3S',\n",
    "'771803',\n",
    "'774601',\n",
    "'657503',\n",
    "'751801_3S',\n",
    "'780301_3S',\n",
    "'160902_3S', '160904',\n",
    "'849502',\n",
    "'775203',\n",
    "'735702',\n",
    "'770803_3S',\n",
    "'776426_3S',\n",
    "'665401',\n",
    "'771601_3S', '771601',\n",
    "'650802_3S', '650803771']"
   ]
  },
  {
   "cell_type": "code",
   "execution_count": 3,
   "metadata": {},
   "outputs": [],
   "source": [
    "df = pd.read_csv('01.05-31.05.csv')\n",
    "bdict = pd.read_excel('bank_names.xlsx', header=None)\n",
    "bdict[1] = bdict[1].astype(str)\n",
    "m_dict = bdict.set_index(1).to_dict()[0]\n",
    "output = 'banks_time01053105'\n",
    "idx = df[df['info_system'] == '900302'].index\n",
    "vals = df.iloc[idx]['t5']+df.iloc[idx]['t6_0']\n",
    "df.loc[idx, 't8'] = vals.tolist()"
   ]
  },
  {
   "cell_type": "code",
   "execution_count": 4,
   "metadata": {},
   "outputs": [
    {
     "name": "stderr",
     "output_type": "stream",
     "text": [
      "<ipython-input-4-4618c2e4da04>:32: FutureWarning: As the xlwt package is no longer maintained, the xlwt engine will be removed in a future version of pandas. This is the only engine in pandas that supports writing in the xls format. Install openpyxl and write to an xlsx file instead. You can set the option io.excel.xls.writer to 'xlwt' to silence this warning. While this option is deprecated and will also raise a warning, it can be globally set and the warning suppressed.\n",
      "  fdf.to_excel(output+'.xls')\n"
     ]
    }
   ],
   "source": [
    "def total_time(df, info_system):\n",
    "    tmpdf = df.loc[df['info_system'] == info_system]\n",
    "    tmpdf = tmpdf.loc[(tmpdf['t14_1'] > 0)&(tmpdf['t8'] > 0)]\n",
    "    total_time = tmpdf['t12_2'].mean()\n",
    "    return total_time\n",
    "\n",
    "def armb_time(df, info_system):\n",
    "    tmpdf = df.loc[df['info_system'] == info_system]\n",
    "    tmpdf = tmpdf.loc[tmpdf['t8'] > 0]\n",
    "    armb_time = tmpdf['t8'].mean()\n",
    "    return armb_time\n",
    "\n",
    "def ebs_time(df, info_system):\n",
    "    tmpdf = df.loc[df['info_system'] == info_system]\n",
    "    tmpdf = tmpdf.loc[tmpdf['t14_1'] > 0]\n",
    "    ebs_time = tmpdf['t14_1'].mean()\n",
    "    return ebs_time\n",
    "\n",
    "timedict = {}\n",
    "for info_system in mnm:\n",
    "    if df.loc[df['info_system'] == info_system].shape[0] == 0:\n",
    "        pass\n",
    "    else:\n",
    "        timedict[m_dict[info_system]] = [total_time(df, info_system), armb_time(df, info_system), ebs_time(df, info_system)]\n",
    "\n",
    "all_df = df.loc[df['info_system'].isin(mnm)]\n",
    "timedict['total'] = [all_df.loc[(all_df['t14_1'] > 0)&(all_df['t8'] > 0)]['t12_2'].mean(), \n",
    "                     all_df.loc[all_df['t8'] > 0]['t8'].mean(), \n",
    "                     all_df.loc[all_df['t14_1'] > 0]['t14_1'].mean()]\n",
    "fdf = pd.DataFrame.from_dict(timedict, orient='index', columns=['Время регистрации', 'Время в АРМ', 'Время в ЕБС'])\n",
    "\n",
    "fdf.to_excel(output+'.xls')"
   ]
  }
 ],
 "metadata": {
  "kernelspec": {
   "display_name": "Python 3",
   "language": "python",
   "name": "python3"
  },
  "language_info": {
   "codemirror_mode": {
    "name": "ipython",
    "version": 3
   },
   "file_extension": ".py",
   "mimetype": "text/x-python",
   "name": "python",
   "nbconvert_exporter": "python",
   "pygments_lexer": "ipython3",
   "version": "3.8.2"
  }
 },
 "nbformat": 4,
 "nbformat_minor": 2
}
